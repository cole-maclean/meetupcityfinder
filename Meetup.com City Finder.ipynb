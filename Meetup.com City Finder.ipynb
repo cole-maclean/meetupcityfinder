{
 "cells": [
  {
   "cell_type": "markdown",
   "metadata": {},
   "source": [
    "<h1>Introduction</h1>\n",
    "\n",
    "Back in February of this year, I packed up my comfortable Canadian life in Calgary, Alberta and moved to Barcelona, Spain to obtain an education in the Mediterranean lifestyle, European cultures, un poco español and some Artificial Intelligence. Having never moved to a new country on my own before, I was overwhelmed by the diverse languages and cultures of Barcelona, and for the first time, I felt truely lonely. With so many cool things to explore and experience in my new city, it took longer than I anticipated to find a group of people to share those experiences with. I realized that making new friends in your mid-twenties isn't quite the same as it was back on the playground, so I began to break out of my comfort zone by using [meetup.com](https://www.meetup.com/) to attend events I found interesting. It's been a fantastic application for finding new friends and helping me settle into my new life in Barcelona.\n",
    "\n",
    "Meetup.com provides a platform for anybody to build a community around a topic of interest, scheduling events from casual drinks in a bar, hikes in the mountains or performing in a singing group. With meetup.com, you can \"Find your people\" by sharing your interests with others in your local community. This platform provides an interesting opportunity to explore which world cities have the most active users for any given topic, allowing us to find our ideal cities and perhaps learn a little about different cultures around the world. Fortunately, meetup.com provides a robust [API](http://www.meetup.com/meetup_api/) to allow us to explore this dataset for ourselves.\n",
    "\n",
    "<h1>The Final Visualization</h1>\n",
    "\n",
    "The aim of this project is to build an interface to allow the user to explore various topics of interest and visualize the best cities for that unique grouping of topics. I've used my hometown of Calgary in the below example image with data science and spanish language as topics. The final visualization can be viewed [here.](https://cole-maclean.github.io/meetupcityfinder/) Feel free to go play with it, the rest of this post outlines how to retrieve the data from meetup.com using it's API.\n",
    "\n",
    "<img src=\"calgary_example.png\">\n",
    "\n",
    "<h1>The Build</h1>\n",
    "\n",
    "<h2>Meetup.com API</h2>\n",
    "\n",
    "Meetup.com has a very well documented API, and memebers of the community have built API wrappers for many popular programming languages. Python being my language of choice, I've utilized the Python [meetup-api](https://pypi.python.org/pypi/meetup-api/) library for this project. To use the package, we first need to obtain an [API key](https://secure.meetup.com/meetup_api/key/) to be used as authentication for our client object. "
   ]
  },
  {
   "cell_type": "code",
   "execution_count": 3,
   "metadata": {
    "collapsed": true
   },
   "outputs": [],
   "source": [
    "import meetup.api\n",
    "import configparser\n",
    "import time\n",
    "\n",
    "config = configparser.ConfigParser()\n",
    "config.read('secrets.ini')\n",
    "\n",
    "meetup_api_key = config.get('meetup', 'api_key')\n",
    "client = meetup.api.Client(meetup_api_key)"
   ]
  },
  {
   "cell_type": "markdown",
   "metadata": {},
   "source": [
    "What we need from the API is to iterate over all groups that exist on the platform, collect the topic tags that group organizers assign their group, and collect the member count for each group. The meetup.api python package provides a GET function to obtain a list of groups having certain input filter parameters. The request returns a results object with a list of groups and their respecitive data including topic keywords."
   ]
  },
  {
   "cell_type": "code",
   "execution_count": 7,
   "metadata": {
    "collapsed": false
   },
   "outputs": [
    {
     "name": "stdout",
     "output_type": "stream",
     "text": [
      "29/30 (10 seconds remaining)\n"
     ]
    },
    {
     "data": {
      "text/plain": [
       "{'category': {'id': 2,\n",
       "  'name': 'career/business',\n",
       "  'shortname': 'career-business'},\n",
       " 'city': 'Calgary',\n",
       " 'country': 'CA',\n",
       " 'created': 1038423812000,\n",
       " 'description': '<p><img src=\"http://photos1.meetupstatic.com/photos/event/b/0/5/c/600_435105148.jpeg\"></p>\\n<p><span><i><b>PLEASE READ BEFORE JOINING OUR GROUP</b> <br></i></span></p>\\n<p><span>The Calgary Business Professionals Group (\"CBP\") is the premier business-related Meetup in the Calgary area. &nbsp;We cater to Calgary entrepreneurs.</span></p>\\n<p><span>The CBP is all about forging strong relationships with no strings attached.&nbsp;</span></p>\\n<p><span>We are not trying to sell you anything!&nbsp;</span></p>\\n<p><span>Our strength is our membership (over 2000 members) and our events (we have hosted over 300).</span></p>\\n<p><span>The CBP Meetup Group is one of the largest and longest running Meetup groups in Calgary (in existence since 2002).&nbsp;</span>&nbsp;</p>\\n<p><b>Our events are invitation-only, private functions and are open to CBP Meetup Group members and their guests only.</b> <br></p>\\n<p>Our events are free to attend (our breakfast event does require you to spend $10 minimum to support our venue).</p>\\n<p>There are great food and drink specials at our \"Beer and Wings\" event, but you are on the hook for what you consume (our host venue runs individual tabs for all attendees). Please tip your server!</p>\\n<p><span><b>In the interests of \"good networking\", we require ALL new members to include:</b></span></p>\\n<p><span><b>&nbsp;(1) A recognizable photo (headshot or similar), NO ADVERTISING OR LOGOS!</b></span></p>\\n<p><span><b>(2) BOTH your first AND last name on both your Meetup AND Group profiles</b></span></p>\\n<p><span><b><i>Your application for membership will be rejected without this information</i></b></span></p>\\n<p><span><b>In addition:</b></span></p>\\n<p><strong>(3) We do not permit members of Multi-Level Marketing (\"MLM\") or other \"Network Marketing\" organizations to join this group.&nbsp;</strong></p>\\n<p><strong>(4) We allow members of other networking groups to join, but PLEASE, do not recruit our members or promote your events at our functions. Doing so will result in removal from CBP.</strong> <br></p>\\n<p><strong>(5) Please use Meetup\\'s messaging function to communicate to follow members but selling or promoting your product or service in an unsolicited fashion is not permitted. Any violations of this policy will result in removal from the group.&nbsp; <br></strong></p>\\n<p><span>We look forward to meeting you at one of our events.</span></p>\\n<p><span>Yours in business and entrepreneurship;</span> <br></p>\\n<p><b>Lisa Marie Genovese</b>, Organizer</p>\\n<p><b>Sean Phillips</b>, Co-Organizer and Host of the monthly breakfast event</p>\\n<p><b>Brad Celmainis</b>, Co-Organizer and Host of the monthly Beer and Wings event</p>\\n<p><img src=\"http://photos4.meetupstatic.com/photos/event/b/0/6/4/600_435105156.jpeg\"></p>\\n<p> <br></p>',\n",
       " 'group_photo': {'highres_link': 'http://photos3.meetupstatic.com/photos/event/a/4/7/6/highres_228822102.jpeg',\n",
       "  'photo_id': 228822102,\n",
       "  'photo_link': 'http://photos3.meetupstatic.com/photos/event/a/4/7/6/600_228822102.jpeg',\n",
       "  'thumb_link': 'http://photos3.meetupstatic.com/photos/event/a/4/7/6/thumb_228822102.jpeg'},\n",
       " 'id': 54766,\n",
       " 'join_mode': 'approval',\n",
       " 'lat': 51.04999923706055,\n",
       " 'link': 'http://www.meetup.com/businessincalgary/',\n",
       " 'lon': -114.08000183105469,\n",
       " 'members': 2071,\n",
       " 'name': 'Calgary Business Professionals Group',\n",
       " 'organizer': {'member_id': 13068793,\n",
       "  'name': 'Lisa Marie Genovese',\n",
       "  'photo': {'highres_link': 'http://photos3.meetupstatic.com/photos/member/a/3/7/highres_246782615.jpeg',\n",
       "   'photo_id': 246782615,\n",
       "   'photo_link': 'http://photos3.meetupstatic.com/photos/member/a/3/7/member_246782615.jpeg',\n",
       "   'thumb_link': 'http://photos3.meetupstatic.com/photos/member/a/3/7/thumb_246782615.jpeg'}},\n",
       " 'rating': 4.47,\n",
       " 'state': 'AB',\n",
       " 'timezone': 'Canada/Mountain',\n",
       " 'topics': [{'id': 389, 'name': 'Small Business', 'urlkey': 'smallbiz'},\n",
       "  {'id': 1238, 'name': 'Marketing', 'urlkey': 'marketing'},\n",
       "  {'id': 3880, 'name': 'Professional Development', 'urlkey': 'prodev'},\n",
       "  {'id': 4422, 'name': 'Social Networking', 'urlkey': 'socialnetwork'},\n",
       "  {'id': 15405,\n",
       "   'name': 'Business Referral Networking',\n",
       "   'urlkey': 'business-referral-networking'},\n",
       "  {'id': 15720,\n",
       "   'name': 'Professional Networking',\n",
       "   'urlkey': 'professional-networking'},\n",
       "  {'id': 17325,\n",
       "   'name': 'Small Business Marketing Strategy',\n",
       "   'urlkey': 'small-business-marketing-strategy'},\n",
       "  {'id': 17635, 'name': 'Business Strategy', 'urlkey': 'business-strategy'},\n",
       "  {'id': 19882, 'name': 'Entrepreneurship', 'urlkey': 'entrepreneurship'},\n",
       "  {'id': 20060,\n",
       "   'name': 'Entrepreneur Networking',\n",
       "   'urlkey': 'business-entrepreneur-networking'},\n",
       "  {'id': 20743,\n",
       "   'name': 'Small Business Owners',\n",
       "   'urlkey': 'small-business-owners'},\n",
       "  {'id': 45636, 'name': 'Calgary Business', 'urlkey': 'calgary-business'},\n",
       "  {'id': 65792, 'name': 'B2B Networking', 'urlkey': 'b2b-networking'},\n",
       "  {'id': 72702,\n",
       "   'name': 'Calgary Entrepreneurs',\n",
       "   'urlkey': 'calgary-entrepreneurs'}],\n",
       " 'urlname': 'businessincalgary',\n",
       " 'utc_offset': -21600000,\n",
       " 'visibility': 'public_limited',\n",
       " 'who': 'Business Professionals'}"
      ]
     },
     "execution_count": 7,
     "metadata": {},
     "output_type": "execute_result"
    }
   ],
   "source": [
    "groups = client.GetGroups(lat=51.0486, lon=-114.0708,radius=50,fields=['topics']) #example meetup API call with Calgary as center\n",
    "                                                                                  #GPS coords and 50 mile radius. Optional data\n",
    "                                                                                  #request to return each groups list of topics\n",
    "groups.results[1]"
   ]
  },
  {
   "cell_type": "markdown",
   "metadata": {},
   "source": [
    "The meetup.com API does not provide a clear way to access every group on the platform, as the design of the system is such that a user selects a center location to search from in a geographic radius to ensure users are recommended groups close to their desired location. One option to obtain all availible groups is to input an impossibly high radius to encompass the entire globe."
   ]
  },
  {
   "cell_type": "code",
   "execution_count": 9,
   "metadata": {
    "collapsed": false
   },
   "outputs": [
    {
     "name": "stdout",
     "output_type": "stream",
     "text": [
      "28/30 (7 seconds remaining)\n"
     ]
    },
    {
     "data": {
      "text/plain": [
       "257973"
      ]
     },
     "execution_count": 9,
     "metadata": {},
     "output_type": "execute_result"
    }
   ],
   "source": [
    "groups = client.GetGroups(lat=51.0486, lon=-114.0708,radius=10000000000,fields=['topics'])\n",
    "groups.meta['total_count']"
   ]
  },
  {
   "cell_type": "markdown",
   "metadata": {},
   "source": [
    "Although this option is technically feasible, and as of today returns a total of 257,973 unique groups, the total time to make that single request is over a minute. The meetup.com API is limited to only return 200 results at a time, which  would require over 1290 of these requests. To overcome the limit of 200 results, the API provides a page offset parameter to programmatically scroll through each page containing the next 200 groups."
   ]
  },
  {
   "cell_type": "code",
   "execution_count": 8,
   "metadata": {
    "collapsed": false
   },
   "outputs": [
    {
     "name": "stdout",
     "output_type": "stream",
     "text": [
      "29/30 (10 seconds remaining)\n",
      "total request groups = 903\n",
      "page 0/4\n",
      "28/30 (8 seconds remaining)\n",
      "page 1/4\n",
      "27/30 (6 seconds remaining)\n",
      "page 2/4\n",
      "26/30 (5 seconds remaining)\n",
      "page 3/4\n",
      "25/30 (3 seconds remaining)\n",
      "page 4/4\n",
      "24/30 (2 seconds remaining)\n"
     ]
    }
   ],
   "source": [
    "groups_per_page = 200\n",
    "\n",
    "groups = client.GetGroups(lat=51.0486, lon=-114.0708,radius=5)#initial request to obtain total request pages\n",
    "time.sleep(1)\n",
    "pages = int(groups.meta['total_count']/groups_per_page)\n",
    "print(\"total request groups = \" + str(groups.meta['total_count']))\n",
    "for i in range(0,pages + 1): #iterate over each request page\n",
    "    print(\"page \" + str(i) + \"/\" + str(pages))\n",
    "    #get offseted request by current request page\n",
    "    groups = client.GetGroups(lat=51.0486, lon=-114.0708,radius=5,fields=['topics'],pages=groups_per_page,offset=i)"
   ]
  },
  {
   "cell_type": "markdown",
   "metadata": {},
   "source": [
    "Initally I attempted to use the above method to iterate over the entire 1290 pages of groups on meetup.com, but each request required me to pass the impossibly high radius parameter with each respective offset page, which I worried was hammering meetup.com's servers and would have taken a few days of straight API requests. The alternate solution I ended up using was to obtain a list of the top 250 global cities by population and use each as the centroid GPS location with a 300 mile radius to obtain the nearby groups. The complete API requests and data structure handling done for collecting the meetup.com data can be viewed in main.py in the projects [repo.](https://github.com/cole-maclean/meetupcityfinder/tree/gh-pages) To keep the data within githubs maximum 100mb file limit and ensure a performant d3.js visualization, city-topics with less then 100 members are filtered out of the dataset."
   ]
  },
  {
   "cell_type": "markdown",
   "metadata": {},
   "source": [
    "<h1>The Viz</h1>\n",
    "\n",
    "The visualization is made up of 3 main components:  \n",
    "1. Globe with city markings indicating cities containing the user selected topics and color coded by that cities sum total ranking in each topic - the lowest total score is the highest ranking city for that unique list of topics. The base for the d3.js globe was modified from [here](https://gist.github.com/serdaradali/11346541)\n",
    "2. Top 10 ranking cities for user selected list of topics  \n",
    "3. Detailed data for user selected city indicating that cities top 5 ranked topics, plus the rank for each of the user inputted topics\n",
    "\n",
    "<h2>My Example</h2>\n",
    "\n",
    "To test out the final viz, I added a few of the topic that interest me to find my ideal city. The following image depicts the results for my list of topics.\n",
    "\n",
    "<img src=\"my_example.png\">\n",
    "\n",
    "The best city for all 8 topics appears to be New York, which is usually the number one city for any list of topics. Meetup.com was started in New York, and I believe New York is a large percentage of the total meetup.com user base, so most queries will show it as being the top city for most given list of topics. The results past New York become more interesting for my example, especially Sydney. It does well in all of the topics that interest me, plus it ranks first in the category \"fun fun fun\". Maybe I'll have to check out Sydney once I'm done my studies here in Barcelona.\n",
    "\n",
    "<h1>Conclusions</h1>\n",
    "\n",
    "The meetup.com API is a really cool dataset that can be used to explore the world and how people are interacting in it. There's probably alot more that can be done with this dataset, and I'm looking forward to playing with it some more to find further insights and interesting anomolies. Hopefully others have fun finding their ideal city and exploring the world through this lens. "
   ]
  }
 ],
 "metadata": {
  "kernelspec": {
   "display_name": "Python 3",
   "language": "python",
   "name": "python3"
  },
  "language_info": {
   "codemirror_mode": {
    "name": "ipython",
    "version": 3
   },
   "file_extension": ".py",
   "mimetype": "text/x-python",
   "name": "python",
   "nbconvert_exporter": "python",
   "pygments_lexer": "ipython3",
   "version": "3.5.0"
  }
 },
 "nbformat": 4,
 "nbformat_minor": 0
}
